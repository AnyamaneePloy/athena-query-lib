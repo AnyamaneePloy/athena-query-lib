{
 "cells": [
  {
   "cell_type": "code",
   "execution_count": null,
   "metadata": {
    "colab": {
     "base_uri": "https://localhost:8080/"
    },
    "id": "hrp0zJ9VoWQY",
    "outputId": "26e80a7d-639a-479c-9526-bfb01373d094"
   },
   "outputs": [
    {
     "name": "stdout",
     "output_type": "stream",
     "text": [
      "Defaulting to user installation because normal site-packages is not writeable\n",
      "Collecting mlxtend\n",
      "  Downloading mlxtend-0.23.3-py3-none-any.whl.metadata (7.3 kB)\n",
      "Collecting scipy>=1.2.1 (from mlxtend)\n",
      "  Using cached scipy-1.14.1-cp312-cp312-win_amd64.whl.metadata (60 kB)\n",
      "Requirement already satisfied: numpy>=1.16.2 in d:\\users\\anyamanee\\appdata\\local\\packages\\pythonsoftwarefoundation.python.3.12_qbz5n2kfra8p0\\localcache\\local-packages\\python312\\site-packages (from mlxtend) (2.1.3)\n",
      "Requirement already satisfied: pandas>=0.24.2 in d:\\users\\anyamanee\\appdata\\local\\packages\\pythonsoftwarefoundation.python.3.12_qbz5n2kfra8p0\\localcache\\local-packages\\python312\\site-packages (from mlxtend) (2.2.3)\n",
      "Collecting scikit-learn>=1.3.1 (from mlxtend)\n",
      "  Downloading scikit_learn-1.5.2-cp312-cp312-win_amd64.whl.metadata (13 kB)\n",
      "Collecting matplotlib>=3.0.0 (from mlxtend)\n",
      "  Using cached matplotlib-3.9.2-cp312-cp312-win_amd64.whl.metadata (11 kB)\n",
      "Collecting joblib>=0.13.2 (from mlxtend)\n",
      "  Downloading joblib-1.4.2-py3-none-any.whl.metadata (5.4 kB)\n",
      "Collecting contourpy>=1.0.1 (from matplotlib>=3.0.0->mlxtend)\n",
      "  Downloading contourpy-1.3.1-cp312-cp312-win_amd64.whl.metadata (5.4 kB)\n",
      "Collecting cycler>=0.10 (from matplotlib>=3.0.0->mlxtend)\n",
      "  Using cached cycler-0.12.1-py3-none-any.whl.metadata (3.8 kB)\n",
      "Collecting fonttools>=4.22.0 (from matplotlib>=3.0.0->mlxtend)\n",
      "  Downloading fonttools-4.55.0-cp312-cp312-win_amd64.whl.metadata (167 kB)\n",
      "Collecting kiwisolver>=1.3.1 (from matplotlib>=3.0.0->mlxtend)\n",
      "  Using cached kiwisolver-1.4.7-cp312-cp312-win_amd64.whl.metadata (6.4 kB)\n",
      "Requirement already satisfied: packaging>=20.0 in d:\\users\\anyamanee\\appdata\\local\\packages\\pythonsoftwarefoundation.python.3.12_qbz5n2kfra8p0\\localcache\\local-packages\\python312\\site-packages (from matplotlib>=3.0.0->mlxtend) (24.1)\n",
      "Collecting pillow>=8 (from matplotlib>=3.0.0->mlxtend)\n",
      "  Downloading pillow-11.0.0-cp312-cp312-win_amd64.whl.metadata (9.3 kB)\n",
      "Collecting pyparsing>=2.3.1 (from matplotlib>=3.0.0->mlxtend)\n",
      "  Using cached pyparsing-3.2.0-py3-none-any.whl.metadata (5.0 kB)\n",
      "Requirement already satisfied: python-dateutil>=2.7 in d:\\users\\anyamanee\\appdata\\local\\packages\\pythonsoftwarefoundation.python.3.12_qbz5n2kfra8p0\\localcache\\local-packages\\python312\\site-packages (from matplotlib>=3.0.0->mlxtend) (2.9.0.post0)\n",
      "Requirement already satisfied: pytz>=2020.1 in d:\\users\\anyamanee\\appdata\\local\\packages\\pythonsoftwarefoundation.python.3.12_qbz5n2kfra8p0\\localcache\\local-packages\\python312\\site-packages (from pandas>=0.24.2->mlxtend) (2024.2)\n",
      "Requirement already satisfied: tzdata>=2022.7 in d:\\users\\anyamanee\\appdata\\local\\packages\\pythonsoftwarefoundation.python.3.12_qbz5n2kfra8p0\\localcache\\local-packages\\python312\\site-packages (from pandas>=0.24.2->mlxtend) (2024.2)\n",
      "Collecting threadpoolctl>=3.1.0 (from scikit-learn>=1.3.1->mlxtend)\n",
      "  Downloading threadpoolctl-3.5.0-py3-none-any.whl.metadata (13 kB)\n",
      "Requirement already satisfied: six>=1.5 in d:\\users\\anyamanee\\appdata\\local\\packages\\pythonsoftwarefoundation.python.3.12_qbz5n2kfra8p0\\localcache\\local-packages\\python312\\site-packages (from python-dateutil>=2.7->matplotlib>=3.0.0->mlxtend) (1.16.0)\n",
      "Downloading mlxtend-0.23.3-py3-none-any.whl (1.4 MB)\n",
      "   ---------------------------------------- 0.0/1.4 MB ? eta -:--:--\n",
      "   ---------------------------------------- 1.4/1.4 MB 23.2 MB/s eta 0:00:00\n",
      "Downloading joblib-1.4.2-py3-none-any.whl (301 kB)\n",
      "Using cached matplotlib-3.9.2-cp312-cp312-win_amd64.whl (7.8 MB)\n",
      "Downloading scikit_learn-1.5.2-cp312-cp312-win_amd64.whl (11.0 MB)\n",
      "   ---------------------------------------- 0.0/11.0 MB ? eta -:--:--\n",
      "   ------------------------------ --------- 8.4/11.0 MB 47.2 MB/s eta 0:00:01\n",
      "   ---------------------------------------- 11.0/11.0 MB 42.9 MB/s eta 0:00:00\n",
      "Using cached scipy-1.14.1-cp312-cp312-win_amd64.whl (44.5 MB)\n",
      "Downloading contourpy-1.3.1-cp312-cp312-win_amd64.whl (220 kB)\n",
      "Using cached cycler-0.12.1-py3-none-any.whl (8.3 kB)\n",
      "Downloading fonttools-4.55.0-cp312-cp312-win_amd64.whl (2.2 MB)\n",
      "   ---------------------------------------- 0.0/2.2 MB ? eta -:--:--\n",
      "   ---------------------------------------- 2.2/2.2 MB 42.2 MB/s eta 0:00:00\n",
      "Using cached kiwisolver-1.4.7-cp312-cp312-win_amd64.whl (55 kB)\n",
      "Downloading pillow-11.0.0-cp312-cp312-win_amd64.whl (2.6 MB)\n",
      "   ---------------------------------------- 0.0/2.6 MB ? eta -:--:--\n",
      "   ---------------------------------------- 2.6/2.6 MB 37.2 MB/s eta 0:00:00\n",
      "Using cached pyparsing-3.2.0-py3-none-any.whl (106 kB)\n",
      "Downloading threadpoolctl-3.5.0-py3-none-any.whl (18 kB)\n",
      "Installing collected packages: threadpoolctl, scipy, pyparsing, pillow, kiwisolver, joblib, fonttools, cycler, contourpy, scikit-learn, matplotlib, mlxtend\n",
      "Successfully installed contourpy-1.3.1 cycler-0.12.1 fonttools-4.55.0 joblib-1.4.2 kiwisolver-1.4.7 matplotlib-3.9.2 mlxtend-0.23.3 pillow-11.0.0 pyparsing-3.2.0 scikit-learn-1.5.2 scipy-1.14.1 threadpoolctl-3.5.0\n"
     ]
    },
    {
     "name": "stderr",
     "output_type": "stream",
     "text": [
      "\n",
      "[notice] A new release of pip is available: 24.2 -> 24.3.1\n",
      "[notice] To update, run: D:\\Users\\anyamanee\\AppData\\Local\\Microsoft\\WindowsApps\\PythonSoftwareFoundation.Python.3.12_qbz5n2kfra8p0\\python.exe -m pip install --upgrade pip\n"
     ]
    }
   ],
   "source": [
    "# ติดตั้งไลบรารีที่จำเป็น\n",
    "%pip install mlxtend"
   ]
  },
  {
   "cell_type": "code",
   "execution_count": null,
   "metadata": {},
   "outputs": [
    {
     "name": "stdout",
     "output_type": "stream",
     "text": [
      "AWS credentials loaded successfully!\n",
      "Athena query results will be saved to: s3://scbprd-data-bucket/dataquery/mkt/\n",
      "['pst_api_tfpdpl_foot_fall_sensor_daily', 'pst_api_tfpdpl_foot_fall_sensor_hourly', 'pst_mongodb_tfmbk_day_building_floor_area_performance_report', 'pst_mongodb_tfmbk_day_building_floor_traffic_report_by_pin_by_hour', 'pst_mongodb_tfmbk_day_building_traffic_report_by_pin_by_hour', 'pst_mongodb_tfmbk_day_zone_area_performance_report', 'pst_mongodb_tfmbk_day_zone_traffic_report_by_pin_by_hour', 'pst_mongodb_tfpdp_day_building_floor_area_performance_report', 'pst_mongodb_tfpdp_day_building_floor_traffic_report_by_pin_by_hour', 'pst_mongodb_tfpdp_day_building_traffic_report_by_pin_by_hour', 'pst_mongodb_tfpdp_day_store_area_performance_report', 'pst_mongodb_tfpdp_day_store_traffic_report_by_pin_by_hour', 'pst_mongodb_tfpdp_day_vehicle_parking_vehicle_performance_report_by_hour', 'pst_mongodb_tfpdp_day_zone_area_performance_report', 'pst_mongodb_tfpdp_day_zone_traffic_report_by_pin_by_hour', 'pst_mongodb_tftnct_day_building_traffic_report_by_pin_by_hour', 'pst_mongodb_tftnct_day_vehicle_performance_report_by_hour', 'pst_mssqldb_mbkmscrm_as_campaignbuzzebees', 'pst_mssqldb_mbkmscrm_as_earnpoint', 'pst_mssqldb_mbkmscrm_as_merchant', 'pst_mssqldb_mbkmscrm_as_point', 'pst_mssqldb_mbkmscrm_contact', 'pst_mssqldb_tftnct_car_park_master_complete', 'pst_mssqldb_tib_agent_info', 'pst_mssqldb_tib_budget_transaction', 'pst_mssqldb_tib_guide_info', 'pst_mssqldb_tib_nation', 'pst_mssqldb_tib_payment', 'pst_mssqldb_tib_payment_detail', 'pst_mssqldb_tib_rate_agency', 'pst_mssqldb_tib_tour_reserve', 'pst_mssqldb_tib_tour_reserve_nation_list', 'pst_mssqldb_tib_tour_tx', 'pst_mssqldb_tib_tour_tx_amount', 'pst_mssqldb_tib_user_group', 'pst_mssqldb_tib_user_login', 'pst_postgredb_carmbk_v_finance', 'pst_postgredb_carmbk_v_sticker', 'pst_postgredb_carmbk_v_trn_in_out', 'pst_postgredb_carmbk_v_trn_stamp']\n",
      "Available tables:\n",
      "1. tfpdpl_foot_fall_sensor_daily\n",
      "2. tfpdpl_foot_fall_sensor_hourly\n",
      "3. tfmbk_day_building_floor_area_performance_report\n",
      "4. tfmbk_day_building_floor_traffic_report_by_pin_by_hour\n",
      "5. tfmbk_day_building_traffic_report_by_pin_by_hour\n",
      "6. tfmbk_day_zone_area_performance_report\n",
      "7. tfmbk_day_zone_traffic_report_by_pin_by_hour\n",
      "8. tfpdp_day_building_floor_area_performance_report\n",
      "9. tfpdp_day_building_floor_traffic_report_by_pin_by_hour\n",
      "10. tfpdp_day_building_traffic_report_by_pin_by_hour\n",
      "11. tfpdp_day_store_area_performance_report\n",
      "12. tfpdp_day_store_traffic_report_by_pin_by_hour\n",
      "13. tfpdp_day_vehicle_parking_vehicle_performance_report_by_hour\n",
      "14. tfpdp_day_zone_area_performance_report\n",
      "15. tfpdp_day_zone_traffic_report_by_pin_by_hour\n",
      "16. tftnct_day_building_traffic_report_by_pin_by_hour\n",
      "17. tftnct_day_vehicle_performance_report_by_hour\n",
      "18. mbkmscrm_as_campaignbuzzebees\n",
      "19. mbkmscrm_as_earnpoint\n",
      "20. mbkmscrm_as_merchant\n",
      "21. mbkmscrm_as_point\n",
      "22. mbkmscrm_contact\n",
      "23. tftnct_car_park_master_complete\n",
      "24. tib_agent_info\n",
      "25. tib_budget_transaction\n",
      "26. tib_guide_info\n",
      "27. tib_nation\n",
      "28. tib_payment\n",
      "29. tib_payment_detail\n",
      "30. tib_rate_agency\n",
      "31. tib_tour_reserve\n",
      "32. tib_tour_reserve_nation_list\n",
      "33. tib_tour_tx\n",
      "34. tib_tour_tx_amount\n",
      "35. tib_user_group\n",
      "36. tib_user_login\n",
      "37. carmbk_v_finance\n",
      "38. carmbk_v_sticker\n",
      "39. carmbk_v_trn_in_out\n",
      "40. carmbk_v_trn_stamp\n",
      "Executing query for table: pst_mssqldb_mbkmscrm_contact\n",
      "Executing query on database 'scbprd_pst_catdb': SELECT COUNT(DISTINCT ContactId) AS distinct_count FROM pst_mssqldb_mbkmscrm_contact;\n",
      "QueryExecutionId: 2cb82d60-2f27-4e57-a99a-ce9543046e58\n",
      "Waiting for query to complete...\n",
      "Query completed successfully!\n",
      "Fetching query results from S3...\n",
      "Fetching results from: s3://scbprd-data-bucket/dataquery/mkt/2cb82d60-2f27-4e57-a99a-ce9543046e58.csv\n",
      "Downloaded results to local file: 2cb82d60-2f27-4e57-a99a-ce9543046e58.csv\n",
      "Total rows fetched: 1\n",
      "Displaying data for Power BI:\n",
      "   distinct_count\n",
      "0         2950159\n",
      "Saving results to CSV with encoding 'utf-8-sig': pst_mssqldb_mbkmscrm_contact_20241119_1023.csv\n",
      "Results saved successfully!\n",
      "Data saved to pst_mssqldb_mbkmscrm_contact_20241119_1023.csv\n"
     ]
    }
   ],
   "source": [
    "import os\n",
    "from athena_query_lib.query_handler import AthenaQueryHandler\n",
    "from dotenv import load_dotenv\n",
    "from datetime import datetime\n",
    "\n",
    "# Load environment variables from the .env file\n",
    "load_dotenv(dotenv_path=\".env.aws\")\n",
    "timestamp = datetime.now().strftime(\"%Y%m%d_%H%M\")\n",
    "\n",
    "# Explicitly pass credentials\n",
    "handler = AthenaQueryHandler(\n",
    "    aws_access_key_id=os.getenv(\"AWS_ACCESS_KEY_ID\"),\n",
    "    aws_secret_access_key=os.getenv(\"AWS_SECRET_ACCESS_KEY\"),\n",
    "    aws_region=os.getenv(\"AWS_REGION\")\n",
    ")\n",
    "\n",
    "# Load the list of table names from an external text file\n",
    "file_path = 'dblist.txt'\n",
    "with open(file_path, 'r') as file:\n",
    "    table_names = file.read().splitlines()  # Removes the newline character\n",
    "    print(table_names)\n",
    "\n",
    "# Display available tables\n",
    "print(\"Available tables:\")\n",
    "for idx, table in enumerate(table_names):\n",
    "    parts = table.split(\"_\", 2)\n",
    "    print(f\"{idx + 1}. {parts[2]}\")\n",
    "\n",
    "# Prompt the user to select a table\n",
    "table_index = int(input(f\"Please select a table by entering the corresponding number (1-{len(table_names)}): \"))\n",
    "selected_table_name = table_names[table_index - 1]\n",
    "\n",
    "# Define the query\n",
    "# query = f\"SELECT count(*) FROM {selected_table_name};\"  # No LIMIT to fetch all rows\n",
    "\n",
    "#22 (example)\n",
    "query = f\"SELECT COUNT(DISTINCT ContactId) AS distinct_count FROM {selected_table_name};\"  # No LIMIT to fetch all rows\n",
    "\n",
    "# Execute the query and fetch results\n",
    "print(f\"Executing query for table: {selected_table_name}\")\n",
    "df = handler.execute_query(\"scbprd_pst_catdb\", query)\n",
    "\n",
    "# Show and save the data\n",
    "handler.show_for_power_bi(df)\n",
    "output_filename = f\"{selected_table_name}_{timestamp}.csv\"\n",
    "handler.save_to_csv(df, output_filename)\n",
    "\n",
    "print(f\"Data saved to {output_filename}\")\n"
   ]
  },
  {
   "cell_type": "code",
   "execution_count": null,
   "metadata": {
    "colab": {
     "base_uri": "https://localhost:8080/"
    },
    "id": "sLzEVOipo_px",
    "outputId": "ee312f4b-03cc-497f-e2c5-0cc28ed4c381"
   },
   "outputs": [
    {
     "name": "stderr",
     "output_type": "stream",
     "text": [
      "/usr/local/lib/python3.10/dist-packages/ipykernel/ipkernel.py:283: DeprecationWarning: `should_run_async` will not call `transform_cell` automatically in the future. Please pass the result to `transformed_cell` argument and any exception that happen during thetransform in `preprocessing_exc_tuple` in IPython 7.17 and above.\n",
      "  and should_run_async(code)\n"
     ]
    },
    {
     "name": "stdout",
     "output_type": "stream",
     "text": [
      "    support                         itemsets\n",
      "0  0.039664        (Apple Auto Auction Data)\n",
      "1  0.010802                 (Riverdale Data)\n",
      "2  0.027764                  (MBK Plus Data)\n",
      "3  0.880598                       (TLS Data)\n",
      "4  0.054272  (Pathumwan Princess Hotel Data)\n",
      "Empty DataFrame\n",
      "Columns: [antecedents, consequents, antecedent support, consequent support, support, confidence, lift, leverage, conviction, zhangs_metric]\n",
      "Index: []\n",
      "Empty DataFrame\n",
      "Columns: [antecedents, consequents, antecedent support, consequent support, support, confidence, lift, leverage, conviction, zhangs_metric]\n",
      "Index: []\n"
     ]
    }
   ],
   "source": [
    "# นำเข้าไลบรารีที่จำเป็น\n",
    "import pandas as pd\n",
    "from mlxtend.preprocessing import TransactionEncoder\n",
    "from mlxtend.frequent_patterns import fpgrowth, association_rules\n",
    "\n",
    "# โหลดข้อมูล\n",
    "file_path = 'your_file_path.csv'  # เปลี่ยนเป็นเส้นทางไฟล์ของคุณ\n",
    "data = pd.read_csv('Data Cross join5.csv')\n",
    "\n",
    "# จัดกลุ่มข้อมูลตาม user_id เพื่อสร้างรายการสินค้าที่ถูกซื้อในแต่ละธุรกรรม\n",
    "grouped_data = data.groupby('user_id')['item_id'].apply(list).reset_index()\n",
    "\n",
    "# ใช้ TransactionEncoder เพื่อเข้ารหัสข้อมูลธุรกรรม\n",
    "te = TransactionEncoder()\n",
    "te_ary = te.fit(grouped_data['item_id']).transform(grouped_data['item_id'])\n",
    "df_encoded = pd.DataFrame(te_ary, columns=te.columns_)\n",
    "\n",
    "# ทำการหาชุดรายการที่เกิดบ่อยโดยใช้ FP-Growth (ตั้งค่า min_support = 0.01)\n",
    "frequent_itemsets = fpgrowth(df_encoded, min_support=0.01, use_colnames=True)\n",
    "\n",
    "# แสดง Frequent Itemsets\n",
    "print(frequent_itemsets)\n",
    "\n",
    "# หากต้องการหากฎความสัมพันธ์จากชุดรายการที่เกิดบ่อย\n",
    "rules = association_rules(frequent_itemsets, metric=\"confidence\", min_threshold=0.6)\n",
    "\n",
    "# แสดง Association Rules\n",
    "print(rules)\n",
    "\n",
    "# Print the rules as a table\n",
    "print(rules.to_string())"
   ]
  },
  {
   "cell_type": "code",
   "execution_count": null,
   "metadata": {
    "colab": {
     "base_uri": "https://localhost:8080/"
    },
    "id": "T3svUPP2JBld",
    "outputId": "330e2872-e65b-4ecb-a935-184e742e249b"
   },
   "outputs": [
    {
     "name": "stdout",
     "output_type": "stream",
     "text": [
      "Empty DataFrame\n",
      "Columns: [antecedents, consequents, antecedent support, consequent support, support, confidence, lift, leverage, conviction, zhangs_metric]\n",
      "Index: []\n"
     ]
    },
    {
     "name": "stderr",
     "output_type": "stream",
     "text": [
      "/usr/local/lib/python3.10/dist-packages/ipykernel/ipkernel.py:283: DeprecationWarning: `should_run_async` will not call `transform_cell` automatically in the future. Please pass the result to `transformed_cell` argument and any exception that happen during thetransform in `preprocessing_exc_tuple` in IPython 7.17 and above.\n",
      "  and should_run_async(code)\n"
     ]
    }
   ],
   "source": [
    "# Print the rules as a table\n",
    "print(rules.to_string())"
   ]
  },
  {
   "cell_type": "code",
   "execution_count": null,
   "metadata": {
    "colab": {
     "base_uri": "https://localhost:8080/"
    },
    "id": "gYYOrjVpp0Ox",
    "outputId": "144b352f-1f24-4ad0-a845-2a2a3024e1da"
   },
   "outputs": [
    {
     "name": "stderr",
     "output_type": "stream",
     "text": [
      "/usr/local/lib/python3.10/dist-packages/ipykernel/ipkernel.py:283: DeprecationWarning: `should_run_async` will not call `transform_cell` automatically in the future. Please pass the result to `transformed_cell` argument and any exception that happen during thetransform in `preprocessing_exc_tuple` in IPython 7.17 and above.\n",
      "  and should_run_async(code)\n"
     ]
    },
    {
     "name": "stdout",
     "output_type": "stream",
     "text": [
      "Rules exported successfully to association_rules_output_fpgrowth_ข้อมูล 6 เดือน.xlsx\n"
     ]
    }
   ],
   "source": [
    "# Export the rules as an Excel file\n",
    "output_file_path = 'association_rules_output_fpgrowth_ข้อมูล 2 ปี.xlsx'  # เปลี่ยนชื่อไฟล์ตามต้องการ\n",
    "rules.to_excel(output_file_path, index=False)\n",
    "\n",
    "print(f\"Rules exported successfully to {output_file_path}\")"
   ]
  }
 ],
 "metadata": {
  "colab": {
   "provenance": []
  },
  "kernelspec": {
   "display_name": ".venvlib",
   "language": "python",
   "name": "python3"
  },
  "language_info": {
   "codemirror_mode": {
    "name": "ipython",
    "version": 3
   },
   "file_extension": ".py",
   "mimetype": "text/x-python",
   "name": "python",
   "nbconvert_exporter": "python",
   "pygments_lexer": "ipython3",
   "version": "3.12.7"
  }
 },
 "nbformat": 4,
 "nbformat_minor": 0
}
